{
  "nbformat": 4,
  "nbformat_minor": 0,
  "metadata": {
    "colab": {
      "provenance": []
    },
    "kernelspec": {
      "name": "python3",
      "display_name": "Python 3"
    },
    "language_info": {
      "name": "python"
    }
  },
  "cells": [
    {
      "cell_type": "markdown",
      "source": [
        "##Menyiapkan Semua Library yang Dibutuhkan"
      ],
      "metadata": {
        "id": "AcJEj8g7CSV1"
      }
    },
    {
      "cell_type": "code",
      "source": [
        "import tensorflow as tf\n",
        "import pandas as pd\n",
        "from sklearn.model_selection import train_test_split\n",
        "from sklearn.preprocessing import StandardScaler\n",
        "from tensorflow.keras.models import Sequential\n",
        "from tensorflow.keras.layers import Dense\n",
        "\n",
        "import matplotlib.pyplot as plt\n",
        "import seaborn as sns"
      ],
      "metadata": {
        "id": "rdn8_qXn9llL"
      },
      "execution_count": 26,
      "outputs": []
    },
    {
      "cell_type": "markdown",
      "source": [
        "##Persiapan Data"
      ],
      "metadata": {
        "id": "dSuQZ7zfCZ0M"
      }
    },
    {
      "cell_type": "code",
      "source": [
        "# Data\n",
        "data = {\n",
        "    \"Nama\": [\"Amanda\", \"Berlinda\", \"Bunga\", \"Cici\", \"Cintya\", \"Dede\", \"Delvia\", \"Didi\", \"Elvia\", \"Eni\",\n",
        "             \"Fani\", \"Febri\", \"Futri\", \"Gani\", \"Gessy\", \"Hani\", \"Herliana\", \"Iki\", \"Ismail\", \"Jaki\",\n",
        "             \"Jeni\", \"Julia\", \"Kiki\", \"Lani\", \"Lia\", \"Masyuri\", \"Mutia\", \"Nama\", \"Nana\", \"Nining\",\n",
        "             \"Oki\", \"Pia\", \"Putri\", \"Reny\", \"Riki\", \"Rista\", \"Sabrina\", \"Sari\", \"Sayidah\", \"Siti\",\n",
        "             \"Syerliana\", \"Tina\", \"Tri\", \"Uki\", \"Widya\", \"Windi\", \"Windri\", \"Yessi\", \"Zicky\"],\n",
        "    \"Penghasilan Bulanan\": [5500000, 6200000, 7800000, 8500000, 9100000, 5700000, 6400000, 7900000, 8600000, 9200000,\n",
        "                            5900000, 6600000, 8100000, 8800000, 9400000, 5400000, 6100000, 8200000, 8900000, 9500000,\n",
        "                            5800000, 6500000, 8000000, 8700000, 9300000, 9500000, 7000000, 10000000, 10000000, 6500000,\n",
        "                            8000000, 8000000, 7000000, 10000000, 7000000, 8000000, 7000000, 7500000, 6500000, 10000000,\n",
        "                            7000000, 6000000, 5500000, 8000000, 10000000, 8000000, 5000000, 9000000, 5000000],\n",
        "    \"Pengeluaran Bulanan\": [6000000, 7500000, 5800000, 6500000, 7200000, 5300000, 7800000, 6100000, 7400000, 7900000,\n",
        "                            5500000, 8000000, 6200000, 7600000, 8100000, 5200000, 7700000, 6000000, 7300000, 7800000,\n",
        "                            5400000, 7900000, 6300000, 7700000, 8000000, 6000000, 6000000, 7000000, 8000000, 4500000,\n",
        "                            5500000, 5000000, 5000000, 6000000, 6000000, 5500000, 4500000, 4500000, 4000000, 7000000,\n",
        "                            5500000, 4500000, 4000000, 5500000, 8000000, 5000000, 3000000, 5500000, 3500000],\n",
        "    \"Tabungan Bulanan\": [-500000, -1300000, 2000000, 2000000, 1900000, 400000, -1400000, 1800000, 1200000, 1300000,\n",
        "                         400000, -1400000, 1900000, 1200000, 1300000, 200000, -1600000, 2200000, 1600000, 1700000,\n",
        "                         400000, -1400000, 1700000, 1000000, 1300000, 3500000, 1000000, 3000000, 2000000, 2000000,\n",
        "                         2500000, 3000000, 2000000, 4000000, 1000000, 2500000, 2500000, 3000000, 2500000, 3000000,\n",
        "                         1500000, 1500000, 1500000, 2500000, 2000000, 3000000, 2000000, 3500000, 1500000]\n",
        "}\n",
        "\n",
        "df = pd.DataFrame(data)\n",
        "\n",
        "print(df.head())"
      ],
      "metadata": {
        "colab": {
          "base_uri": "https://localhost:8080/"
        },
        "id": "ZHC6jth2_WaD",
        "outputId": "772e70ed-09f5-43a0-ab4b-34336b0f691e"
      },
      "execution_count": 20,
      "outputs": [
        {
          "output_type": "stream",
          "name": "stdout",
          "text": [
            "       Nama  Penghasilan Bulanan  Pengeluaran Bulanan  Tabungan Bulanan\n",
            "0    Amanda              5500000              6000000           -500000\n",
            "1  Berlinda              6200000              7500000          -1300000\n",
            "2     Bunga              7800000              5800000           2000000\n",
            "3      Cici              8500000              6500000           2000000\n",
            "4    Cintya              9100000              7200000           1900000\n"
          ]
        }
      ]
    },
    {
      "cell_type": "markdown",
      "source": [
        "##Preprocessing Data"
      ],
      "metadata": {
        "id": "DJFih1HyCjLX"
      }
    },
    {
      "cell_type": "code",
      "source": [
        "# Features and labels\n",
        "X = df[['Penghasilan Bulanan', 'Pengeluaran Bulanan']].values\n",
        "y = df['Tabungan Bulanan'].values\n",
        "\n",
        "# Split data into training and testing sets\n",
        "X_train, X_test, y_train, y_test = train_test_split(X, y, test_size=0.2, random_state=42)\n",
        "\n",
        "# Scale the features\n",
        "scaler = StandardScaler()\n",
        "X_train_scaled = scaler.fit_transform(X_train)\n",
        "X_test_scaled = scaler.transform(X_test)"
      ],
      "metadata": {
        "id": "fWL0iTxzNvgq"
      },
      "execution_count": 21,
      "outputs": []
    },
    {
      "cell_type": "markdown",
      "source": [
        "##Membangun Model TensorFlow"
      ],
      "metadata": {
        "id": "scdibgujD2Iw"
      }
    },
    {
      "cell_type": "code",
      "source": [
        "# Build the model\n",
        "model = Sequential([\n",
        "    Dense(64, input_dim=2, activation='relu'),\n",
        "    Dense(32, activation='relu'),\n",
        "    Dense(1)\n",
        "])\n",
        "\n",
        "# Compile the model\n",
        "model.compile(optimizer='adam', loss='mean_squared_error')\n",
        "\n",
        "# Train the model\n",
        "history = model.fit(X_train_scaled, y_train, epochs=100, validation_split=0.2, verbose=1)"
      ],
      "metadata": {
        "colab": {
          "base_uri": "https://localhost:8080/"
        },
        "id": "-SNU3_b3Cv0a",
        "outputId": "e139ddfe-5f2b-44f9-b2a8-5984afbbc54f"
      },
      "execution_count": 22,
      "outputs": [
        {
          "output_type": "stream",
          "name": "stdout",
          "text": [
            "Epoch 1/100\n",
            "1/1 [==============================] - 1s 1s/step - loss: 3586128871424.0000 - val_loss: 2799999909888.0000\n",
            "Epoch 2/100\n",
            "1/1 [==============================] - 0s 34ms/step - loss: 3586128609280.0000 - val_loss: 2799999909888.0000\n",
            "Epoch 3/100\n",
            "1/1 [==============================] - 0s 33ms/step - loss: 3586128609280.0000 - val_loss: 2799999647744.0000\n",
            "Epoch 4/100\n",
            "1/1 [==============================] - 0s 35ms/step - loss: 3586128347136.0000 - val_loss: 2799999647744.0000\n",
            "Epoch 5/100\n",
            "1/1 [==============================] - 0s 34ms/step - loss: 3586128347136.0000 - val_loss: 2799999647744.0000\n",
            "Epoch 6/100\n",
            "1/1 [==============================] - 0s 40ms/step - loss: 3586128347136.0000 - val_loss: 2799999385600.0000\n",
            "Epoch 7/100\n",
            "1/1 [==============================] - 0s 35ms/step - loss: 3586128347136.0000 - val_loss: 2799999385600.0000\n",
            "Epoch 8/100\n",
            "1/1 [==============================] - 0s 37ms/step - loss: 3586128084992.0000 - val_loss: 2799999385600.0000\n",
            "Epoch 9/100\n",
            "1/1 [==============================] - 0s 67ms/step - loss: 3586128084992.0000 - val_loss: 2799998861312.0000\n",
            "Epoch 10/100\n",
            "1/1 [==============================] - 0s 34ms/step - loss: 3586128084992.0000 - val_loss: 2799998861312.0000\n",
            "Epoch 11/100\n",
            "1/1 [==============================] - 0s 36ms/step - loss: 3586128084992.0000 - val_loss: 2799998861312.0000\n",
            "Epoch 12/100\n",
            "1/1 [==============================] - 0s 37ms/step - loss: 3586127822848.0000 - val_loss: 2799998599168.0000\n",
            "Epoch 13/100\n",
            "1/1 [==============================] - 0s 37ms/step - loss: 3586127822848.0000 - val_loss: 2799998599168.0000\n",
            "Epoch 14/100\n",
            "1/1 [==============================] - 0s 54ms/step - loss: 3586127822848.0000 - val_loss: 2799998337024.0000\n",
            "Epoch 15/100\n",
            "1/1 [==============================] - 0s 34ms/step - loss: 3586127822848.0000 - val_loss: 2799998337024.0000\n",
            "Epoch 16/100\n",
            "1/1 [==============================] - 0s 51ms/step - loss: 3586127298560.0000 - val_loss: 2799998337024.0000\n",
            "Epoch 17/100\n",
            "1/1 [==============================] - 0s 36ms/step - loss: 3586127298560.0000 - val_loss: 2799997812736.0000\n",
            "Epoch 18/100\n",
            "1/1 [==============================] - 0s 37ms/step - loss: 3586127298560.0000 - val_loss: 2799997812736.0000\n",
            "Epoch 19/100\n",
            "1/1 [==============================] - 0s 35ms/step - loss: 3586127298560.0000 - val_loss: 2799997550592.0000\n",
            "Epoch 20/100\n",
            "1/1 [==============================] - 0s 37ms/step - loss: 3586127298560.0000 - val_loss: 2799997550592.0000\n",
            "Epoch 21/100\n",
            "1/1 [==============================] - 0s 38ms/step - loss: 3586127298560.0000 - val_loss: 2799997550592.0000\n",
            "Epoch 22/100\n",
            "1/1 [==============================] - 0s 34ms/step - loss: 3586126774272.0000 - val_loss: 2799997550592.0000\n",
            "Epoch 23/100\n",
            "1/1 [==============================] - 0s 36ms/step - loss: 3586127036416.0000 - val_loss: 2799997288448.0000\n",
            "Epoch 24/100\n",
            "1/1 [==============================] - 0s 34ms/step - loss: 3586126774272.0000 - val_loss: 2799996764160.0000\n",
            "Epoch 25/100\n",
            "1/1 [==============================] - 0s 35ms/step - loss: 3586126512128.0000 - val_loss: 2799996764160.0000\n",
            "Epoch 26/100\n",
            "1/1 [==============================] - 0s 34ms/step - loss: 3586126512128.0000 - val_loss: 2799996764160.0000\n",
            "Epoch 27/100\n",
            "1/1 [==============================] - 0s 37ms/step - loss: 3586126249984.0000 - val_loss: 2799996502016.0000\n",
            "Epoch 28/100\n",
            "1/1 [==============================] - 0s 35ms/step - loss: 3586126249984.0000 - val_loss: 2799996502016.0000\n",
            "Epoch 29/100\n",
            "1/1 [==============================] - 0s 36ms/step - loss: 3586126249984.0000 - val_loss: 2799996502016.0000\n",
            "Epoch 30/100\n",
            "1/1 [==============================] - 0s 35ms/step - loss: 3586125987840.0000 - val_loss: 2799995977728.0000\n",
            "Epoch 31/100\n",
            "1/1 [==============================] - 0s 36ms/step - loss: 3586125463552.0000 - val_loss: 2799995977728.0000\n",
            "Epoch 32/100\n",
            "1/1 [==============================] - 0s 37ms/step - loss: 3586125987840.0000 - val_loss: 2799995977728.0000\n",
            "Epoch 33/100\n",
            "1/1 [==============================] - 0s 40ms/step - loss: 3586125463552.0000 - val_loss: 2799995715584.0000\n",
            "Epoch 34/100\n",
            "1/1 [==============================] - 0s 36ms/step - loss: 3586125463552.0000 - val_loss: 2799995715584.0000\n",
            "Epoch 35/100\n",
            "1/1 [==============================] - 0s 36ms/step - loss: 3586124939264.0000 - val_loss: 2799995453440.0000\n",
            "Epoch 36/100\n",
            "1/1 [==============================] - 0s 36ms/step - loss: 3586125201408.0000 - val_loss: 2799995191296.0000\n",
            "Epoch 37/100\n",
            "1/1 [==============================] - 0s 33ms/step - loss: 3586124939264.0000 - val_loss: 2799995191296.0000\n",
            "Epoch 38/100\n",
            "1/1 [==============================] - 0s 34ms/step - loss: 3586124677120.0000 - val_loss: 2799994929152.0000\n",
            "Epoch 39/100\n",
            "1/1 [==============================] - 0s 35ms/step - loss: 3586124939264.0000 - val_loss: 2799994667008.0000\n",
            "Epoch 40/100\n",
            "1/1 [==============================] - 0s 37ms/step - loss: 3586124414976.0000 - val_loss: 2799994404864.0000\n",
            "Epoch 41/100\n",
            "1/1 [==============================] - 0s 36ms/step - loss: 3586124152832.0000 - val_loss: 2799994142720.0000\n",
            "Epoch 42/100\n",
            "1/1 [==============================] - 0s 60ms/step - loss: 3586124152832.0000 - val_loss: 2799994142720.0000\n",
            "Epoch 43/100\n",
            "1/1 [==============================] - 0s 35ms/step - loss: 3586123890688.0000 - val_loss: 2799993880576.0000\n",
            "Epoch 44/100\n",
            "1/1 [==============================] - 0s 34ms/step - loss: 3586123890688.0000 - val_loss: 2799993618432.0000\n",
            "Epoch 45/100\n",
            "1/1 [==============================] - 0s 36ms/step - loss: 3586123628544.0000 - val_loss: 2799993356288.0000\n",
            "Epoch 46/100\n",
            "1/1 [==============================] - 0s 33ms/step - loss: 3586123628544.0000 - val_loss: 2799993356288.0000\n",
            "Epoch 47/100\n",
            "1/1 [==============================] - 0s 37ms/step - loss: 3586123366400.0000 - val_loss: 2799993094144.0000\n",
            "Epoch 48/100\n",
            "1/1 [==============================] - 0s 40ms/step - loss: 3586122842112.0000 - val_loss: 2799992569856.0000\n",
            "Epoch 49/100\n",
            "1/1 [==============================] - 0s 35ms/step - loss: 3586122842112.0000 - val_loss: 2799992569856.0000\n",
            "Epoch 50/100\n",
            "1/1 [==============================] - 0s 33ms/step - loss: 3586122579968.0000 - val_loss: 2799992045568.0000\n",
            "Epoch 51/100\n",
            "1/1 [==============================] - 0s 36ms/step - loss: 3586122317824.0000 - val_loss: 2799992045568.0000\n",
            "Epoch 52/100\n",
            "1/1 [==============================] - 0s 35ms/step - loss: 3586122055680.0000 - val_loss: 2799991521280.0000\n",
            "Epoch 53/100\n",
            "1/1 [==============================] - 0s 37ms/step - loss: 3586122317824.0000 - val_loss: 2799991521280.0000\n",
            "Epoch 54/100\n",
            "1/1 [==============================] - 0s 36ms/step - loss: 3586121793536.0000 - val_loss: 2799991259136.0000\n",
            "Epoch 55/100\n",
            "1/1 [==============================] - 0s 35ms/step - loss: 3586121793536.0000 - val_loss: 2799990996992.0000\n",
            "Epoch 56/100\n",
            "1/1 [==============================] - 0s 35ms/step - loss: 3586121269248.0000 - val_loss: 2799990472704.0000\n",
            "Epoch 57/100\n",
            "1/1 [==============================] - 0s 35ms/step - loss: 3586121269248.0000 - val_loss: 2799990472704.0000\n",
            "Epoch 58/100\n",
            "1/1 [==============================] - 0s 37ms/step - loss: 3586120744960.0000 - val_loss: 2799989948416.0000\n",
            "Epoch 59/100\n",
            "1/1 [==============================] - 0s 36ms/step - loss: 3586120744960.0000 - val_loss: 2799989948416.0000\n",
            "Epoch 60/100\n",
            "1/1 [==============================] - 0s 37ms/step - loss: 3586120220672.0000 - val_loss: 2799989424128.0000\n",
            "Epoch 61/100\n",
            "1/1 [==============================] - 0s 36ms/step - loss: 3586120220672.0000 - val_loss: 2799988899840.0000\n",
            "Epoch 62/100\n",
            "1/1 [==============================] - 0s 35ms/step - loss: 3586119696384.0000 - val_loss: 2799988899840.0000\n",
            "Epoch 63/100\n",
            "1/1 [==============================] - 0s 39ms/step - loss: 3586119696384.0000 - val_loss: 2799988375552.0000\n",
            "Epoch 64/100\n",
            "1/1 [==============================] - 0s 39ms/step - loss: 3586119172096.0000 - val_loss: 2799988375552.0000\n",
            "Epoch 65/100\n",
            "1/1 [==============================] - 0s 38ms/step - loss: 3586118909952.0000 - val_loss: 2799987851264.0000\n",
            "Epoch 66/100\n",
            "1/1 [==============================] - 0s 40ms/step - loss: 3586118647808.0000 - val_loss: 2799987326976.0000\n",
            "Epoch 67/100\n",
            "1/1 [==============================] - 0s 37ms/step - loss: 3586118385664.0000 - val_loss: 2799986802688.0000\n",
            "Epoch 68/100\n",
            "1/1 [==============================] - 0s 48ms/step - loss: 3586118123520.0000 - val_loss: 2799986802688.0000\n",
            "Epoch 69/100\n",
            "1/1 [==============================] - 0s 36ms/step - loss: 3586117599232.0000 - val_loss: 2799986278400.0000\n",
            "Epoch 70/100\n",
            "1/1 [==============================] - 0s 36ms/step - loss: 3586117599232.0000 - val_loss: 2799986016256.0000\n",
            "Epoch 71/100\n",
            "1/1 [==============================] - 0s 36ms/step - loss: 3586116812800.0000 - val_loss: 2799985491968.0000\n",
            "Epoch 72/100\n",
            "1/1 [==============================] - 0s 36ms/step - loss: 3586116550656.0000 - val_loss: 2799984967680.0000\n",
            "Epoch 73/100\n",
            "1/1 [==============================] - 0s 57ms/step - loss: 3586116288512.0000 - val_loss: 2799984705536.0000\n",
            "Epoch 74/100\n",
            "1/1 [==============================] - 0s 45ms/step - loss: 3586116026368.0000 - val_loss: 2799984181248.0000\n",
            "Epoch 75/100\n",
            "1/1 [==============================] - 0s 48ms/step - loss: 3586115764224.0000 - val_loss: 2799983656960.0000\n",
            "Epoch 76/100\n",
            "1/1 [==============================] - 0s 54ms/step - loss: 3586115239936.0000 - val_loss: 2799983394816.0000\n",
            "Epoch 77/100\n",
            "1/1 [==============================] - 0s 47ms/step - loss: 3586114715648.0000 - val_loss: 2799982870528.0000\n",
            "Epoch 78/100\n",
            "1/1 [==============================] - 0s 43ms/step - loss: 3586114191360.0000 - val_loss: 2799982608384.0000\n",
            "Epoch 79/100\n",
            "1/1 [==============================] - 0s 42ms/step - loss: 3586114191360.0000 - val_loss: 2799982084096.0000\n",
            "Epoch 80/100\n",
            "1/1 [==============================] - 0s 47ms/step - loss: 3586113404928.0000 - val_loss: 2799981559808.0000\n",
            "Epoch 81/100\n",
            "1/1 [==============================] - 0s 46ms/step - loss: 3586113142784.0000 - val_loss: 2799981035520.0000\n",
            "Epoch 82/100\n",
            "1/1 [==============================] - 0s 72ms/step - loss: 3586112356352.0000 - val_loss: 2799980511232.0000\n",
            "Epoch 83/100\n",
            "1/1 [==============================] - 0s 43ms/step - loss: 3586112618496.0000 - val_loss: 2799979986944.0000\n",
            "Epoch 84/100\n",
            "1/1 [==============================] - 0s 53ms/step - loss: 3586111832064.0000 - val_loss: 2799979724800.0000\n",
            "Epoch 85/100\n",
            "1/1 [==============================] - 0s 62ms/step - loss: 3586111569920.0000 - val_loss: 2799978938368.0000\n",
            "Epoch 86/100\n",
            "1/1 [==============================] - 0s 66ms/step - loss: 3586111045632.0000 - val_loss: 2799978414080.0000\n",
            "Epoch 87/100\n",
            "1/1 [==============================] - 0s 64ms/step - loss: 3586110259200.0000 - val_loss: 2799977889792.0000\n",
            "Epoch 88/100\n",
            "1/1 [==============================] - 0s 53ms/step - loss: 3586109734912.0000 - val_loss: 2799977365504.0000\n",
            "Epoch 89/100\n",
            "1/1 [==============================] - 0s 45ms/step - loss: 3586108686336.0000 - val_loss: 2799976316928.0000\n",
            "Epoch 90/100\n",
            "1/1 [==============================] - 0s 43ms/step - loss: 3586108686336.0000 - val_loss: 2799975792640.0000\n",
            "Epoch 91/100\n",
            "1/1 [==============================] - 0s 43ms/step - loss: 3586108162048.0000 - val_loss: 2799975268352.0000\n",
            "Epoch 92/100\n",
            "1/1 [==============================] - 0s 59ms/step - loss: 3586107637760.0000 - val_loss: 2799974744064.0000\n",
            "Epoch 93/100\n",
            "1/1 [==============================] - 0s 63ms/step - loss: 3586106851328.0000 - val_loss: 2799974219776.0000\n",
            "Epoch 94/100\n",
            "1/1 [==============================] - 0s 74ms/step - loss: 3586106589184.0000 - val_loss: 2799973433344.0000\n",
            "Epoch 95/100\n",
            "1/1 [==============================] - 0s 42ms/step - loss: 3586106064896.0000 - val_loss: 2799972646912.0000\n",
            "Epoch 96/100\n",
            "1/1 [==============================] - 0s 42ms/step - loss: 3586105278464.0000 - val_loss: 2799972122624.0000\n",
            "Epoch 97/100\n",
            "1/1 [==============================] - 0s 41ms/step - loss: 3586104754176.0000 - val_loss: 2799971598336.0000\n",
            "Epoch 98/100\n",
            "1/1 [==============================] - 0s 43ms/step - loss: 3586103967744.0000 - val_loss: 2799970811904.0000\n",
            "Epoch 99/100\n",
            "1/1 [==============================] - 0s 61ms/step - loss: 3586103705600.0000 - val_loss: 2799970025472.0000\n",
            "Epoch 100/100\n",
            "1/1 [==============================] - 0s 67ms/step - loss: 3586102919168.0000 - val_loss: 2799969501184.0000\n"
          ]
        }
      ]
    },
    {
      "cell_type": "markdown",
      "source": [
        "##Evaluasi Model"
      ],
      "metadata": {
        "id": "zKm67vVID_e8"
      }
    },
    {
      "cell_type": "code",
      "source": [
        "loss = model.evaluate(X_test_scaled, y_test)\n",
        "print(f'Mean Squared Error on test set: {loss}')\n",
        "\n",
        "# Predicting values\n",
        "y_pred = model.predict(X_test_scaled)\n",
        "\n",
        "# Display some predictions\n",
        "for i in range(5):\n",
        "    print(f\"Actual: {y_test[i]}, Predicted: {y_pred[i][0]}\")"
      ],
      "metadata": {
        "colab": {
          "base_uri": "https://localhost:8080/"
        },
        "id": "WNcLzv18D5m1",
        "outputId": "7b36ef27-e8e3-4d3b-a6dd-aacfc9694c84"
      },
      "execution_count": 23,
      "outputs": [
        {
          "output_type": "stream",
          "name": "stdout",
          "text": [
            "1/1 [==============================] - 0s 25ms/step - loss: 6566949945344.0000\n",
            "Mean Squared Error on test set: 6566949945344.0\n",
            "1/1 [==============================] - 0s 57ms/step\n",
            "Actual: 1200000, Predicted: 8.938981056213379\n",
            "Actual: 3000000, Predicted: 8.066195487976074\n",
            "Actual: 3500000, Predicted: 10.82223129272461\n",
            "Actual: 2000000, Predicted: 14.06804370880127\n",
            "Actual: 2200000, Predicted: 7.208230972290039\n"
          ]
        }
      ]
    },
    {
      "cell_type": "markdown",
      "source": [
        "##Menyimpan Model"
      ],
      "metadata": {
        "id": "I4_NcWWFETpC"
      }
    },
    {
      "cell_type": "code",
      "source": [
        "# Save the model\n",
        "model.save('fintrack_model.h5')"
      ],
      "metadata": {
        "colab": {
          "base_uri": "https://localhost:8080/"
        },
        "id": "1BLOlDnVETAY",
        "outputId": "18a0bc40-bc09-413e-fc57-7f84f2ec02ca"
      },
      "execution_count": 24,
      "outputs": [
        {
          "output_type": "stream",
          "name": "stderr",
          "text": [
            "/usr/local/lib/python3.10/dist-packages/keras/src/engine/training.py:3103: UserWarning: You are saving your model as an HDF5 file via `model.save()`. This file format is considered legacy. We recommend using instead the native Keras format, e.g. `model.save('my_model.keras')`.\n",
            "  saving_api.save_model(\n"
          ]
        }
      ]
    },
    {
      "cell_type": "markdown",
      "source": [
        "##Menggunakan Model yang Disimpan"
      ],
      "metadata": {
        "id": "vnymwNS2EcgD"
      }
    },
    {
      "cell_type": "code",
      "source": [
        "# Load the model\n",
        "loaded_model = tf.keras.models.load_model('fintrack_model.h5')\n",
        "\n",
        "# Predicting new values\n",
        "new_data = np.array([[9000000, 7000000], [8500000, 6000000]])\n",
        "new_data_scaled = scaler.transform(new_data)\n",
        "predictions = loaded_model.predict(new_data_scaled)\n",
        "\n",
        "for i, pred in enumerate(predictions):\n",
        "    print(f\"Predicted savings for input {i+1}: {pred[0]}\")"
      ],
      "metadata": {
        "colab": {
          "base_uri": "https://localhost:8080/"
        },
        "id": "hymqft34EXOB",
        "outputId": "7b652078-5c19-402e-d50c-99ea9ceff4ef"
      },
      "execution_count": 25,
      "outputs": [
        {
          "output_type": "stream",
          "name": "stdout",
          "text": [
            "1/1 [==============================] - 0s 135ms/step\n",
            "Predicted savings for input 1: 10.094544410705566\n",
            "Predicted savings for input 2: 8.397438049316406\n"
          ]
        }
      ]
    },
    {
      "cell_type": "markdown",
      "source": [
        "##Visualisasi Data Hasil Analisis"
      ],
      "metadata": {
        "id": "XH4yj4kxE00R"
      }
    },
    {
      "cell_type": "code",
      "source": [
        "def visualize_financial_analysis(data):\n",
        "    plt.figure(figsize=(10, 6))\n",
        "    plt.bar(data['Nama'], data['Tabungan Bulanan'], color='skyblue')\n",
        "    plt.xlabel('Nama')\n",
        "    plt.ylabel('Tabungan Bulanan (IDR)')\n",
        "    plt.title('Tabungan Bulanan per Orang')\n",
        "    plt.xticks(rotation=90)\n",
        "    plt.tight_layout()\n",
        "    plt.show()\n",
        "\n",
        "# Visualisasi data keuangan per orang\n",
        "visualize_financial_analysis(df)"
      ],
      "metadata": {
        "colab": {
          "base_uri": "https://localhost:8080/",
          "height": 601
        },
        "id": "9vp7zs7uEf8M",
        "outputId": "91f5c92e-e477-42ca-b339-11bd58024c38"
      },
      "execution_count": 30,
      "outputs": [
        {
          "output_type": "display_data",
          "data": {
            "text/plain": [
              "<Figure size 1000x600 with 1 Axes>"
            ],
            "image/png": "[encoded data removed]"
          },
          "metadata": {}
        }
      ]
    },
    {
      "cell_type": "markdown",
      "source": [
        "##Menyediakan Ringkasan Keuangan"
      ],
      "metadata": {
        "id": "jZFkKp5eFMq5"
      }
    },
    {
      "cell_type": "code",
      "source": [
        "def summarize_financial_data(data):\n",
        "    plt.figure(figsize=(10, 6))\n",
        "    plt.boxplot(data['Tabungan Bulanan'], vert=False)\n",
        "    plt.xlabel('Tabungan Bulanan (IDR)')\n",
        "    plt.title('Ringkasan Keuangan Per Orang')\n",
        "    plt.tight_layout()\n",
        "    plt.show()\n",
        "\n",
        "# Visualisasi ringkasan keuangan per orang\n",
        "summarize_financial_data(df)"
      ],
      "metadata": {
        "colab": {
          "base_uri": "https://localhost:8080/",
          "height": 601
        },
        "id": "7CGz5loLFOe3",
        "outputId": "89457a4f-0094-418f-e29f-192c33497b62"
      },
      "execution_count": 31,
      "outputs": [
        {
          "output_type": "display_data",
          "data": {
            "text/plain": [
              "<Figure size 1000x600 with 1 Axes>"
            ],
            "image/png": "[encoded data removed]"
          },
          "metadata": {}
        }
      ]
    }
  ]
}